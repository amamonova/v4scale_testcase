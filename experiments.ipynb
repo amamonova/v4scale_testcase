{
 "cells": [
  {
   "cell_type": "code",
   "execution_count": 33,
   "metadata": {},
   "outputs": [],
   "source": [
    "import requests\n",
    "from bs4 import BeautifulSoup\n",
    "import pandas as pd"
   ]
  },
  {
   "cell_type": "code",
   "execution_count": 34,
   "metadata": {},
   "outputs": [],
   "source": [
    "def get_html(url):\n",
    "    r = requests.get(url)\n",
    "    return r.text\n",
    "def get_soup(html):\n",
    "    return BeautifulSoup(html, 'html.parser')"
   ]
  },
  {
   "cell_type": "code",
   "execution_count": 56,
   "metadata": {},
   "outputs": [],
   "source": [
    "url = 'https://www.marketbeat.com/stocks/NASDAQ/MSFT/price-target/?MostRecent=0'\n",
    "soup = get_soup(get_html(url))"
   ]
  },
  {
   "cell_type": "code",
   "execution_count": 57,
   "metadata": {},
   "outputs": [],
   "source": [
    "df = pd.read_html(str(soup.find('table', {'class': 'scroll-table sort-table'})))[0]"
   ]
  },
  {
   "cell_type": "code",
   "execution_count": 58,
   "metadata": {},
   "outputs": [
    {
     "data": {
      "text/html": [
       "<div>\n",
       "<style scoped>\n",
       "    .dataframe tbody tr th:only-of-type {\n",
       "        vertical-align: middle;\n",
       "    }\n",
       "\n",
       "    .dataframe tbody tr th {\n",
       "        vertical-align: top;\n",
       "    }\n",
       "\n",
       "    .dataframe thead th {\n",
       "        text-align: right;\n",
       "    }\n",
       "</style>\n",
       "<table border=\"1\" class=\"dataframe\">\n",
       "  <thead>\n",
       "    <tr style=\"text-align: right;\">\n",
       "      <th></th>\n",
       "      <th>Date</th>\n",
       "      <th>Brokerage</th>\n",
       "      <th>Action</th>\n",
       "      <th>Rating</th>\n",
       "      <th>Price Target</th>\n",
       "      <th>Impact on Share Price</th>\n",
       "      <th>Details</th>\n",
       "    </tr>\n",
       "  </thead>\n",
       "  <tbody>\n",
       "    <tr>\n",
       "      <th>0</th>\n",
       "      <td>3/16/2020</td>\n",
       "      <td>Wedbush</td>\n",
       "      <td>Reiterated Rating</td>\n",
       "      <td>Buy</td>\n",
       "      <td>$210.00</td>\n",
       "      <td>Medium</td>\n",
       "      <td>NaN</td>\n",
       "    </tr>\n",
       "    <tr>\n",
       "      <th>1</th>\n",
       "      <td>3/11/2020</td>\n",
       "      <td>Jefferies Financial Group</td>\n",
       "      <td>Reiterated Rating</td>\n",
       "      <td>Buy</td>\n",
       "      <td>$190.00</td>\n",
       "      <td>Medium</td>\n",
       "      <td>NaN</td>\n",
       "    </tr>\n",
       "    <tr>\n",
       "      <th>2</th>\n",
       "      <td>3/2/2020</td>\n",
       "      <td>Oppenheimer</td>\n",
       "      <td>Upgrade</td>\n",
       "      <td>Buy</td>\n",
       "      <td>NaN</td>\n",
       "      <td>High</td>\n",
       "      <td>NaN</td>\n",
       "    </tr>\n",
       "    <tr>\n",
       "      <th>3</th>\n",
       "      <td>2/27/2020</td>\n",
       "      <td>Deutsche Bank</td>\n",
       "      <td>Reiterated Rating</td>\n",
       "      <td>Buy</td>\n",
       "      <td>NaN</td>\n",
       "      <td>High</td>\n",
       "      <td>NaN</td>\n",
       "    </tr>\n",
       "    <tr>\n",
       "      <th>4</th>\n",
       "      <td>2/27/2020</td>\n",
       "      <td>Citigroup</td>\n",
       "      <td>Reiterated Rating</td>\n",
       "      <td>Hold</td>\n",
       "      <td>$174.00</td>\n",
       "      <td>High</td>\n",
       "      <td>NaN</td>\n",
       "    </tr>\n",
       "  </tbody>\n",
       "</table>\n",
       "</div>"
      ],
      "text/plain": [
       "        Date                  Brokerage             Action Rating  \\\n",
       "0  3/16/2020                    Wedbush  Reiterated Rating    Buy   \n",
       "1  3/11/2020  Jefferies Financial Group  Reiterated Rating    Buy   \n",
       "2   3/2/2020                Oppenheimer            Upgrade    Buy   \n",
       "3  2/27/2020              Deutsche Bank  Reiterated Rating    Buy   \n",
       "4  2/27/2020                  Citigroup  Reiterated Rating   Hold   \n",
       "\n",
       "  Price Target Impact on Share Price  Details  \n",
       "0      $210.00                Medium      NaN  \n",
       "1      $190.00                Medium      NaN  \n",
       "2          NaN                  High      NaN  \n",
       "3          NaN                  High      NaN  \n",
       "4      $174.00                  High      NaN  "
      ]
     },
     "execution_count": 58,
     "metadata": {},
     "output_type": "execute_result"
    }
   ],
   "source": [
    "df.head()"
   ]
  },
  {
   "cell_type": "code",
   "execution_count": 71,
   "metadata": {},
   "outputs": [],
   "source": [
    "def clean_price_target(inp_str):\n",
    "    if '➝' in inp_str and len(inp_str) > 1:\n",
    "        return float(inp_str.split('➝')[1].strip()[1:])\n",
    "    elif inp_str == '➝':\n",
    "        return 0.0\n",
    "    else:\n",
    "        return float(inp_str[1:])"
   ]
  },
  {
   "cell_type": "code",
   "execution_count": 75,
   "metadata": {},
   "outputs": [],
   "source": [
    "df.Date = df['Date'].astype('datetime64')\n",
    "\n",
    "df['Price Target'].fillna('00', inplace=True)\n",
    "\n",
    "df['Price Target'] = df['Price Target'].apply(clean_price_target)"
   ]
  },
  {
   "cell_type": "code",
   "execution_count": 106,
   "metadata": {},
   "outputs": [],
   "source": [
    "INS_ANLYST_SELL = df[df.Rating == 'Sell']\\\n",
    "                    .set_index('Date').groupby(pd.Grouper(freq='M'))['Price Target'].count()\n",
    "\n",
    "INS_ANLYST_HOLD = df[df.Rating == 'Hold']\\\n",
    "                    .set_index('Date').groupby(pd.Grouper(freq='M'))['Price Target'].count()\n",
    "\n",
    "INS_ANLYST_BUY = df[df.Rating == 'Buy']\\\n",
    "                    .set_index('Date').groupby(pd.Grouper(freq='M'))['Price Target'].count()"
   ]
  },
  {
   "cell_type": "code",
   "execution_count": 119,
   "metadata": {},
   "outputs": [],
   "source": [
    "AMT_ANLYST_SELL = df[df.Rating == 'Sell']\\\n",
    "                    .set_index('Date').groupby(pd.Grouper(freq='M'))['Price Target'].mean()\n",
    "\n",
    "AMT_ANLYST_HOLD = df[df.Rating == 'Hold']\\\n",
    "                    .set_index('Date').groupby(pd.Grouper(freq='M'))['Price Target'].mean()\n",
    "\n",
    "AMT_ANLYST_BUY = df[df.Rating == 'Buy']\\\n",
    "                    .set_index('Date').groupby(pd.Grouper(freq='M'))['Price Target'].mean()"
   ]
  },
  {
   "cell_type": "code",
   "execution_count": null,
   "metadata": {},
   "outputs": [],
   "source": []
  }
 ],
 "metadata": {
  "kernelspec": {
   "display_name": "Python 3",
   "language": "python",
   "name": "python3"
  },
  "language_info": {
   "codemirror_mode": {
    "name": "ipython",
    "version": 3
   },
   "file_extension": ".py",
   "mimetype": "text/x-python",
   "name": "python",
   "nbconvert_exporter": "python",
   "pygments_lexer": "ipython3",
   "version": "3.6.5"
  }
 },
 "nbformat": 4,
 "nbformat_minor": 4
}
